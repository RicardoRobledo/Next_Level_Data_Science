{
 "cells": [
  {
   "cell_type": "code",
   "execution_count": 1,
   "id": "0c3047df-96ca-4f2d-be59-f458f78e0fca",
   "metadata": {},
   "outputs": [
    {
     "name": "stdout",
     "output_type": "stream",
     "text": [
      "Total number of missing values: 829\n",
      "XGB with native imputing, average R^2 score: 0.7547\n"
     ]
    }
   ],
   "source": [
    "# Import XGBoost to demonstrate native handling of missing values\n",
    "import pandas as pd\n",
    "import xgboost as xgb\n",
    "from sklearn.model_selection import cross_val_score\n",
    "\n",
    "# Load the dataset\n",
    "Ames = pd.read_csv(\"Ames.csv\")\n",
    "\n",
    "# Select numeric features with missing values\n",
    "cols_with_missing = Ames.isnull().any()\n",
    "X = Ames.loc[:, cols_with_missing].select_dtypes(include=[\"int\", \"float\"])\n",
    "y = Ames[\"SalePrice\"]\n",
    "\n",
    "# Check and print the total number of missing values\n",
    "total_missing_values = X.isna().sum().sum()\n",
    "print(f\"Total number of missing values: {total_missing_values}\")\n",
    "\n",
    "# Initialize XGBoost regressor with default settings, fixed seed for reproducibility\n",
    "xgb_model = xgb.XGBRegressor(seed=42)\n",
    "\n",
    "# Perform 5-fold cross-validation\n",
    "scores = cross_val_score(xgb_model, X, y, cv=5, scoring=\"r2\")\n",
    "\n",
    "# Calculate and display the average R-squared score\n",
    "mean_r2 = scores.mean()\n",
    "print(f\"XGB with native imputing, average R^2 score: {mean_r2:.4f}\")"
   ]
  },
  {
   "cell_type": "code",
   "execution_count": 1,
   "id": "89fa9144-e967-4d9e-a52d-45d8c3f1bfca",
   "metadata": {},
   "outputs": [
    {
     "name": "stdout",
     "output_type": "stream",
     "text": [
      "Average model R^2 score with selected categorical features: 0.8543\n"
     ]
    }
   ],
   "source": [
    "# Demonstrate native handling of categorical features\n",
    "import pandas as pd\n",
    "import xgboost as xgb\n",
    "from sklearn.model_selection import cross_val_score\n",
    "\n",
    "# Load the dataset\n",
    "Ames = pd.read_csv(\"Ames.csv\")\n",
    "\n",
    "# Convert specified categorical features to \"category\" type\n",
    "for col in [\"Neighborhood\", \"BldgType\", \"HouseStyle\"]:\n",
    "    Ames[col] = Ames[col].astype(\"category\")\n",
    "\n",
    "# Include some numeric features for a balanced model\n",
    "selected_features = [\n",
    "    \"OverallQual\", \"GrLivArea\", \"YearBuilt\", \"TotalBsmtSF\", \"1stFlrSF\",\n",
    "    \"Neighborhood\", \"BldgType\", \"HouseStyle\"\n",
    "]\n",
    "X = Ames[selected_features]\n",
    "y = Ames[\"SalePrice\"]\n",
    "\n",
    "# Initialize XGBoost regressor with native handling for categorical data\n",
    "xgb_model = xgb.XGBRegressor(\n",
    "    seed=42,\n",
    "    enable_categorical=True\n",
    ")\n",
    "\n",
    "# Perform 5-fold cross-validation\n",
    "scores = cross_val_score(xgb_model, X, y, cv=5, scoring=\"r2\")\n",
    "\n",
    "# Calculate the average R-squared score\n",
    "mean_r2 = scores.mean()\n",
    "print(f\"Average model R^2 score with selected categorical features: {mean_r2:.4f}\")"
   ]
  },
  {
   "cell_type": "code",
   "execution_count": 3,
   "id": "b810d092-a2b3-4647-a809-ffedc2f696e6",
   "metadata": {},
   "outputs": [
    {
     "name": "stdout",
     "output_type": "stream",
     "text": [
      "Optimal number of features:  36\n",
      "Best features:  Index(['GrLivArea', 'MSZoning', 'LotArea', 'Neighborhood', 'Condition1',\n",
      "       'OverallQual', 'OverallCond', 'YearBuilt', 'YearRemodAdd', 'MasVnrArea',\n",
      "       'ExterQual', 'BsmtQual', 'BsmtFinType1', 'BsmtFinSF1', 'TotalBsmtSF',\n",
      "       'HeatingQC', 'CentralAir', '1stFlrSF', '2ndFlrSF', 'BsmtFullBath',\n",
      "       'KitchenQual', 'Functional', 'Fireplaces', 'FireplaceQu', 'GarageYrBlt',\n",
      "       'GarageCars', 'GarageArea', 'PavedDrive', 'WoodDeckSF', 'ScreenPorch',\n",
      "       'MoSold', 'SaleType', 'SaleCondition', 'GeoRefNo', 'Latitude',\n",
      "       'Longitude'],\n",
      "      dtype='object')\n"
     ]
    }
   ],
   "source": [
    "# Perform Cross-Validated Recursive Feature Elimination for XGB\n",
    "import pandas as pd\n",
    "import xgboost as xgb\n",
    "from sklearn.feature_selection import RFECV\n",
    "from sklearn.model_selection import cross_val_score\n",
    "\n",
    "# Load the dataset\n",
    "Ames = pd.read_csv(\"Ames.csv\")\n",
    "\n",
    "# Convert selected features to \"object\" type to treat them as categorical\n",
    "for col in [\"MSSubClass\", \"YrSold\", \"MoSold\"]:\n",
    "    Ames[col] = Ames[col].astype(\"object\")\n",
    "\n",
    "# Convert all object-type features to categorical and then to codes\n",
    "categorical_features = Ames.select_dtypes(include=[\"object\"]).columns\n",
    "for col in categorical_features:\n",
    "    Ames[col] = Ames[col].astype(\"category\").cat.codes\n",
    "\n",
    "# Select features and target\n",
    "X = Ames.drop(columns=[\"SalePrice\", \"PID\"])\n",
    "y = Ames[\"SalePrice\"]\n",
    "\n",
    "# Initialize XGBoost regressor\n",
    "xgb_model = xgb.XGBRegressor(seed=42, enable_categorical=True)\n",
    "\n",
    "# Initialize RFECV\n",
    "rfecv = RFECV(estimator=xgb_model, step=1, cv=5, scoring=\"r2\", min_features_to_select=1)\n",
    "\n",
    "# Fit RFECV\n",
    "rfecv.fit(X, y)\n",
    "\n",
    "# Print the optimal number of features and their names\n",
    "print(\"Optimal number of features: \", rfecv.n_features_)\n",
    "print(\"Best features: \", X.columns[rfecv.support_])"
   ]
  },
  {
   "cell_type": "code",
   "execution_count": 6,
   "id": "bf8449b0-be01-42e7-ac76-33d5653bc299",
   "metadata": {},
   "outputs": [
    {
     "name": "stdout",
     "output_type": "stream",
     "text": [
      "Average Cross-validated R^2 score with remaining features: 0.8970\n"
     ]
    }
   ],
   "source": [
    "# RFECV on an XGBoost regressor\n",
    "X = Ames.drop(columns=[\"SalePrice\", \"PID\"])\n",
    "y = Ames[\"SalePrice\"]\n",
    "\n",
    "# Inicializa el modelo base\n",
    "xgb_model = xgb.XGBRegressor(seed=42, enable_categorical=True)\n",
    "\n",
    "# Inicializa RFECV con validación cruzada de 5 folds\n",
    "rfecv = RFECV(\n",
    "    estimator=xgb_model,\n",
    "    step=1,\n",
    "    cv=5,\n",
    "    scoring=\"r2\",\n",
    "    min_features_to_select=1\n",
    ")\n",
    "\n",
    "# Ajusta el modelo para seleccionar las mejores características\n",
    "rfecv.fit(X, y)\n",
    "\n",
    "# Valida el modelo final usando solo las características seleccionadas\n",
    "final_model = xgb.XGBRegressor(seed=42, enable_categorical=True)\n",
    "cv_scores = cross_val_score(final_model, X.iloc[:, rfecv.support_], y, cv=5, scoring=\"r2\")\n",
    "\n",
    "# Calcula el promedio del R^2\n",
    "mean_r2 = cv_scores.mean()\n",
    "print(f\"Average Cross-validated R^2 score with remaining features: {mean_r2:.4f}\")"
   ]
  },
  {
   "cell_type": "code",
   "execution_count": null,
   "id": "c7916690-3b9d-414d-adeb-c703523925ae",
   "metadata": {},
   "outputs": [],
   "source": []
  }
 ],
 "metadata": {
  "kernelspec": {
   "display_name": "Python 3 (ipykernel)",
   "language": "python",
   "name": "python3"
  },
  "language_info": {
   "codemirror_mode": {
    "name": "ipython",
    "version": 3
   },
   "file_extension": ".py",
   "mimetype": "text/x-python",
   "name": "python",
   "nbconvert_exporter": "python",
   "pygments_lexer": "ipython3",
   "version": "3.11.10"
  }
 },
 "nbformat": 4,
 "nbformat_minor": 5
}
