{
 "cells": [
  {
   "cell_type": "code",
   "execution_count": 1,
   "id": "e7557879-624f-4c2e-a0a7-0b915cded930",
   "metadata": {},
   "outputs": [
    {
     "name": "stdout",
     "output_type": "stream",
     "text": [
      "Feature selected for highest predictability: OverallQual\n"
     ]
    }
   ],
   "source": [
    "# Cargar solo las columnas numéricas del dataset Ames\n",
    "import pandas as pd\n",
    "Ames = pd.read_csv(\"Ames.csv\").select_dtypes(include=[\"int64\", \"float64\"])\n",
    "\n",
    "# Eliminar columnas con valores faltantes\n",
    "Ames = Ames.dropna(axis=1)\n",
    "\n",
    "# Importar regresión lineal y selector secuencial de características\n",
    "from sklearn.linear_model import LinearRegression\n",
    "from sklearn.feature_selection import SequentialFeatureSelector\n",
    "\n",
    "# Inicializar el modelo de regresión lineal\n",
    "model = LinearRegression()\n",
    "\n",
    "# Ejecutar el selector secuencial para elegir 1 característica\n",
    "sfs = SequentialFeatureSelector(model, n_features_to_select=1)  # Usa cv=5 por defecto\n",
    "\n",
    "# Definir X (características) e y (objetivo)\n",
    "X = Ames.drop(\"SalePrice\", axis=1)\n",
    "y = Ames[\"SalePrice\"]\n",
    "\n",
    "# Ajustar el selector al conjunto de datos\n",
    "sfs.fit(X, y)\n",
    "\n",
    "# Obtener la característica seleccionada\n",
    "selected_feature = X.columns[sfs.get_support()]\n",
    "print(\"Feature selected for highest predictability:\", selected_feature[0])"
   ]
  },
  {
   "cell_type": "code",
   "execution_count": 4,
   "id": "79dcbe89-1345-4c0c-ae70-1565c9a78028",
   "metadata": {},
   "outputs": [
    {
     "name": "stdout",
     "output_type": "stream",
     "text": [
      "Feature: OverallQual, Mean CV R^2: 0.6183\n",
      "Feature: GrLivArea, Mean CV R^2: 0.5127\n",
      "Feature: 1stFlrSF, Mean CV R^2: 0.3957\n"
     ]
    }
   ],
   "source": [
    "import pandas as pd\n",
    "from sklearn.linear_model import LinearRegression\n",
    "from sklearn.model_selection import cross_val_score\n",
    "\n",
    "Ames = pd.read_csv(\"Ames.csv\").select_dtypes(include=[\"int64\", \"float64\"]).dropna(axis=1)\n",
    "X = Ames.drop(\"SalePrice\", axis=1)  # Features\n",
    "y = Ames[\"SalePrice\"]               # Target variable\n",
    "model = LinearRegression()\n",
    "\n",
    "# Dictionary to hold feature names and their corresponding mean CV R^2 scores\n",
    "feature_scores = {}\n",
    "\n",
    "# Iterate over each feature, perform CV, and store the mean R^2 score\n",
    "for feature in X.columns:\n",
    "    X_single = X[[feature]]\n",
    "    cv_scores = cross_val_score(model, X_single, y, cv=5)\n",
    "    feature_scores[feature] = cv_scores.mean()\n",
    "\n",
    "# Sort features based on their mean CV R^2 scores in descending order\n",
    "sorted_features = sorted(feature_scores.items(), key=lambda item: item[1], reverse=True)\n",
    "\n",
    "# Print the top 3 features and their scores\n",
    "top_3 = sorted_features[0:3]\n",
    "for feature, score in top_3:\n",
    "    print(f\"Feature: {feature}, Mean CV R^2: {score:.4f}\")"
   ]
  },
  {
   "cell_type": "code",
   "execution_count": 6,
   "id": "e9ce395e-3403-425c-ae3e-c164fa1852af",
   "metadata": {},
   "outputs": [
    {
     "name": "stdout",
     "output_type": "stream",
     "text": [
      "Mean CV R^2 score using 'Quality Weighted Area': 0.7484\n"
     ]
    }
   ],
   "source": [
    "import pandas as pd\n",
    "from sklearn.linear_model import LinearRegression\n",
    "from sklearn.model_selection import cross_val_score\n",
    "\n",
    "Ames = pd.read_csv(\"Ames.csv\").select_dtypes(include=[\"int64\", \"float64\"]).dropna(axis=1)\n",
    "X = Ames.drop(\"SalePrice\", axis=1)  # Features\n",
    "y = Ames[\"SalePrice\"]               # Target variable\n",
    "\n",
    "# Create a new feature\n",
    "Ames['QualityArea'] = Ames['OverallQual'] * Ames['GrLivArea']\n",
    "\n",
    "# Setting up the feature and target variable for the new 'QualityArea' feature\n",
    "X = Ames[['QualityArea']]  # New feature\n",
    "y = Ames['SalePrice']\n",
    "\n",
    "# 5-Fold CV on Linear Regression\n",
    "model = LinearRegression()\n",
    "cv_scores = cross_val_score(model, X, y, cv=5)\n",
    "\n",
    "# Calculating the mean of the CV scores\n",
    "mean_cv_score = cv_scores.mean()\n",
    "print(f\"Mean CV R^2 score using 'Quality Weighted Area': {mean_cv_score:.4f}\")"
   ]
  },
  {
   "cell_type": "code",
   "execution_count": null,
   "id": "e696df74-1827-40fc-bcd2-9e823412dec8",
   "metadata": {},
   "outputs": [],
   "source": []
  }
 ],
 "metadata": {
  "kernelspec": {
   "display_name": "Python 3 (ipykernel)",
   "language": "python",
   "name": "python3"
  },
  "language_info": {
   "codemirror_mode": {
    "name": "ipython",
    "version": 3
   },
   "file_extension": ".py",
   "mimetype": "text/x-python",
   "name": "python",
   "nbconvert_exporter": "python",
   "pygments_lexer": "ipython3",
   "version": "3.11.10"
  }
 },
 "nbformat": 4,
 "nbformat_minor": 5
}
