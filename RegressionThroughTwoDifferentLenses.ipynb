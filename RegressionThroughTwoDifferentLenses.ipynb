{
 "cells": [
  {
   "cell_type": "code",
   "execution_count": 2,
   "id": "3da51d53-2d8b-4a8d-affc-c013d735e591",
   "metadata": {},
   "outputs": [
    {
     "name": "stdout",
     "output_type": "stream",
     "text": [
      "         PID  GrLivArea  SalePrice  MSSubClass MSZoning  LotFrontage  LotArea  \\\n",
      "0  909176150        856     126000          30       RL          NaN     7890   \n",
      "1  905476230       1049     139500         120       RL         42.0     4235   \n",
      "2  911128020       1001     124900          30  C (all)         60.0     6060   \n",
      "3  535377150       1039     114000          70       RL         80.0     8146   \n",
      "4  534177230       1665     227000          60       RL         70.0     8400   \n",
      "\n",
      "  Street Alley LotShape  ... MiscFeature MiscVal MoSold YrSold SaleType  \\\n",
      "0   Pave   NaN      Reg  ...         NaN       0      3   2010      WD    \n",
      "1   Pave   NaN      Reg  ...         NaN       0      2   2009      WD    \n",
      "2   Pave   NaN      Reg  ...         NaN       0     11   2007      WD    \n",
      "3   Pave   NaN      Reg  ...         NaN       0      5   2009      WD    \n",
      "4   Pave   NaN      Reg  ...         NaN       0     11   2009      WD    \n",
      "\n",
      "  SaleCondition     GeoRefNo          Prop_Addr   Latitude  Longitude  \n",
      "0        Normal  909176150.0    436 HAYWARD AVE  42.018564 -93.651619  \n",
      "1        Normal  905476230.0       3416 WEST ST  42.024855 -93.663671  \n",
      "2        Normal  911128020.0       320 S 2ND ST  42.021548 -93.614068  \n",
      "3        Normal  535377150.0   1524 DOUGLAS AVE  42.037391 -93.612207  \n",
      "4        Normal  534177230.0  2304 FILLMORE AVE  42.044554 -93.631818  \n",
      "\n",
      "[5 rows x 85 columns]\n",
      "The data type of 'SalePrice' is int64.\n"
     ]
    }
   ],
   "source": [
    "# Load the Ames dataset\n",
    "\n",
    "import pandas as pd\n",
    "Ames = pd.read_csv(\"Ames.csv\")\n",
    " \n",
    "# Display the first few rows of the dataset and the data type of \"SalePrice\"\n",
    "print(Ames.head())\n",
    "sale_price_dtype = Ames[\"SalePrice\"].dtype\n",
    "print(f\"The data type of 'SalePrice' is {sale_price_dtype}.\")"
   ]
  },
  {
   "cell_type": "code",
   "execution_count": 4,
   "id": "891ac865-7386-49ed-a6fc-96fc08a3c309",
   "metadata": {},
   "outputs": [
    {
     "name": "stdout",
     "output_type": "stream",
     "text": [
      "                            OLS Regression Results                            \n",
      "==============================================================================\n",
      "Dep. Variable:              SalePrice   R-squared:                       0.518\n",
      "Model:                            OLS   Adj. R-squared:                  0.518\n",
      "Method:                 Least Squares   F-statistic:                     2774.\n",
      "Date:                Mon, 26 May 2025   Prob (F-statistic):               0.00\n",
      "Time:                        10:03:08   Log-Likelihood:                -31668.\n",
      "No. Observations:                2579   AIC:                         6.334e+04\n",
      "Df Residuals:                    2577   BIC:                         6.335e+04\n",
      "Df Model:                           1                                         \n",
      "Covariance Type:            nonrobust                                         \n",
      "==============================================================================\n",
      "                 coef    std err          t      P>|t|      [0.025      0.975]\n",
      "------------------------------------------------------------------------------\n",
      "const       1.377e+04   3283.652      4.195      0.000    7335.256    2.02e+04\n",
      "GrLivArea    110.5551      2.099     52.665      0.000     106.439     114.671\n",
      "==============================================================================\n",
      "Omnibus:                      566.257   Durbin-Watson:                   1.926\n",
      "Prob(Omnibus):                  0.000   Jarque-Bera (JB):             3364.083\n",
      "Skew:                           0.903   Prob(JB):                         0.00\n",
      "Kurtosis:                       8.296   Cond. No.                     5.01e+03\n",
      "==============================================================================\n",
      "\n",
      "Notes:\n",
      "[1] Standard Errors assume that the covariance matrix of the errors is correctly specified.\n",
      "[2] The condition number is large, 5.01e+03. This might indicate that there are\n",
      "strong multicollinearity or other numerical problems.\n"
     ]
    }
   ],
   "source": [
    "import pandas as pd\n",
    "import statsmodels.api as sm\n",
    "\n",
    "# Load the Ames dataset\n",
    "Ames = pd.read_csv(\"Ames.csv\")\n",
    "\n",
    "# Select features and target\n",
    "X = Ames[[\"GrLivArea\"]] # Feature: GrLivArea, 2D matrix\n",
    "y = Ames[\"SalePrice\"]\n",
    "\n",
    "# Target: SalePrice, 1D vector\n",
    "# statsmodels requires to add a constant explicitly to model the intercept\n",
    "X_with_constant = sm.add_constant(X)\n",
    "\n",
    "# Fit the OLS model\n",
    "model_stats = sm.OLS(y, X_with_constant).fit()\n",
    "\n",
    "# Print the summary of the model\n",
    "print(model_stats.summary())"
   ]
  },
  {
   "cell_type": "code",
   "execution_count": null,
   "id": "320c4439-f7ef-4fd9-859c-a61533390d58",
   "metadata": {},
   "outputs": [],
   "source": []
  }
 ],
 "metadata": {
  "kernelspec": {
   "display_name": "Python 3 (ipykernel)",
   "language": "python",
   "name": "python3"
  },
  "language_info": {
   "codemirror_mode": {
    "name": "ipython",
    "version": 3
   },
   "file_extension": ".py",
   "mimetype": "text/x-python",
   "name": "python",
   "nbconvert_exporter": "python",
   "pygments_lexer": "ipython3",
   "version": "3.11.10"
  }
 },
 "nbformat": 4,
 "nbformat_minor": 5
}
