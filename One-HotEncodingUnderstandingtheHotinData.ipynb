{
 "cells": [
  {
   "cell_type": "code",
   "execution_count": 4,
   "id": "147d2c67-ac2a-4971-9de7-6acac869ea9f",
   "metadata": {},
   "outputs": [
    {
     "name": "stdout",
     "output_type": "stream",
     "text": [
      "The shape of the DataFrame before one-hot encoding is: (2579, 27)\n",
      "   MSZoning_A (agr)  MSZoning_C (all)  MSZoning_FV  MSZoning_I (all)  \\\n",
      "0               0.0               0.0          0.0               0.0   \n",
      "1               0.0               0.0          0.0               0.0   \n",
      "2               0.0               1.0          0.0               0.0   \n",
      "3               0.0               0.0          0.0               0.0   \n",
      "4               0.0               0.0          0.0               0.0   \n",
      "\n",
      "   MSZoning_RH  MSZoning_RL  MSZoning_RM  Street_Grvl  Street_Pave  \\\n",
      "0          0.0          1.0          0.0          0.0          1.0   \n",
      "1          0.0          1.0          0.0          0.0          1.0   \n",
      "2          0.0          0.0          0.0          0.0          1.0   \n",
      "3          0.0          1.0          0.0          0.0          1.0   \n",
      "4          0.0          1.0          0.0          0.0          1.0   \n",
      "\n",
      "   LotShape_IR1  ...  SaleType_New  SaleType_Oth  SaleType_VWD  SaleType_WD   \\\n",
      "0           0.0  ...           0.0           0.0           0.0           1.0   \n",
      "1           0.0  ...           0.0           0.0           0.0           1.0   \n",
      "2           0.0  ...           0.0           0.0           0.0           1.0   \n",
      "3           0.0  ...           0.0           0.0           0.0           1.0   \n",
      "4           0.0  ...           0.0           0.0           0.0           1.0   \n",
      "\n",
      "   SaleCondition_Abnorml  SaleCondition_AdjLand  SaleCondition_Alloca  \\\n",
      "0                    0.0                    0.0                   0.0   \n",
      "1                    0.0                    0.0                   0.0   \n",
      "2                    0.0                    0.0                   0.0   \n",
      "3                    0.0                    0.0                   0.0   \n",
      "4                    0.0                    0.0                   0.0   \n",
      "\n",
      "   SaleCondition_Family  SaleCondition_Normal  SaleCondition_Partial  \n",
      "0                   0.0                   1.0                    0.0  \n",
      "1                   0.0                   1.0                    0.0  \n",
      "2                   0.0                   1.0                    0.0  \n",
      "3                   0.0                   1.0                    0.0  \n",
      "4                   0.0                   1.0                    0.0  \n",
      "\n",
      "[5 rows x 188 columns]\n",
      "The shape of the DataFrame after one-hot encoding is: (2579, 188)\n"
     ]
    }
   ],
   "source": [
    "# Load only categorical columns without missing values from the Ames dataset\n",
    "import pandas as pd\n",
    "\n",
    "Ames = pd.read_csv(\"Ames.csv\").select_dtypes(include=[\"object\"]).dropna(axis=1)\n",
    "print(f\"The shape of the DataFrame before one-hot encoding is: {Ames.shape}\")\n",
    "\n",
    "# Import OneHotEncoder and apply it to Ames:\n",
    "from sklearn.preprocessing import OneHotEncoder\n",
    "\n",
    "encoder = OneHotEncoder(sparse_output=False)\n",
    "Ames_One_Hot = encoder.fit_transform(Ames)\n",
    "\n",
    "# Convert the encoded result back to a DataFrame\n",
    "Ames_encoded_df = pd.DataFrame(Ames_One_Hot,\n",
    "                              columns=encoder.get_feature_names_out(Ames.columns))\n",
    "\n",
    "# Display the new DataFrame and its expanded shape\n",
    "print(Ames_encoded_df.head())\n",
    "print(f\"The shape of the DataFrame after one-hot encoding is: {Ames_encoded_df.shape}\")"
   ]
  },
  {
   "cell_type": "code",
   "execution_count": 1,
   "id": "b626fb4b-e483-446e-89b7-5795d1dbcd33",
   "metadata": {},
   "outputs": [
    {
     "name": "stdout",
     "output_type": "stream",
     "text": [
      "Feature selected for highest predictability: Neighborhood\n"
     ]
    }
   ],
   "source": [
    "import pandas as pd\n",
    "from sklearn.linear_model import LinearRegression\n",
    "from sklearn.model_selection import cross_val_score\n",
    "from sklearn.preprocessing import OneHotEncoder\n",
    "\n",
    "Ames = pd.read_csv(\"Ames.csv\").select_dtypes(include=[\"object\"]).dropna(axis=1)\n",
    "\n",
    "# Set \"SalePrice\" as the target variable\n",
    "y = pd.read_csv(\"Ames.csv\")[\"SalePrice\"]\n",
    "\n",
    "# Dictionary to store feature names and their corresponding mean CV R^2 scores\n",
    "feature_scores = {}\n",
    "\n",
    "for feature in Ames.columns:\n",
    "    encoder = OneHotEncoder(drop=\"first\")\n",
    "    X_encoded = encoder.fit_transform(Ames[[feature]])\n",
    "    # Initialize the linear regression model\n",
    "    model = LinearRegression()\n",
    "    # Perform 5-fold cross-validation and calculate R^2 scores\n",
    "    scores = cross_val_score(model, X_encoded, y)\n",
    "    mean_score = scores.mean()\n",
    "    # Store the mean R^2 score\n",
    "    feature_scores[feature] = mean_score\n",
    "\n",
    "# Sort features based on their mean CV R^2 scores in descending order\n",
    "sorted_features = sorted(feature_scores.items(), key=lambda item: item[1], reverse=True)\n",
    "\n",
    "print(\"Feature selected for highest predictability:\", sorted_features[0][0])"
   ]
  },
  {
   "cell_type": "code",
   "execution_count": 3,
   "id": "d7fb4e8a-c3d2-47e2-94f1-31c407d7eeb7",
   "metadata": {},
   "outputs": [
    {
     "name": "stdout",
     "output_type": "stream",
     "text": [
      "Top 5 Categorical Features:\n",
      "Neighborhood: Mean CV R^2 = 0.5407\n",
      "ExterQual: Mean CV R^2 = 0.4651\n",
      "KitchenQual: Mean CV R^2 = 0.4373\n",
      "Foundation: Mean CV R^2 = 0.2547\n",
      "HeatingQC: Mean CV R^2 = 0.1892\n"
     ]
    }
   ],
   "source": [
    "import pandas as pd\n",
    "from sklearn.linear_model import LinearRegression\n",
    "from sklearn.model_selection import cross_val_score\n",
    "from sklearn.preprocessing import OneHotEncoder\n",
    "\n",
    "Ames = pd.read_csv(\"Ames.csv\").select_dtypes(include=[\"object\"]).dropna(axis=1)\n",
    "y = pd.read_csv(\"Ames.csv\")[\"SalePrice\"]\n",
    "\n",
    "feature_scores = {}\n",
    "\n",
    "for feature in Ames.columns:\n",
    "    encoder = OneHotEncoder(drop=\"first\")\n",
    "    X_encoded = encoder.fit_transform(Ames[[feature]])\n",
    "    model = LinearRegression()\n",
    "    scores = cross_val_score(model, X_encoded, y)\n",
    "    mean_score = scores.mean()\n",
    "    feature_scores[feature] = mean_score\n",
    "\n",
    "sorted_features = sorted(feature_scores.items(), key=lambda item: item[1], reverse=True)\n",
    "\n",
    "print(\"Top 5 Categorical Features:\")\n",
    "for feature, score in sorted_features[0:5]:\n",
    "    print(f\"{feature}: Mean CV R^2 = {score:.4f}\")"
   ]
  },
  {
   "cell_type": "code",
   "execution_count": null,
   "id": "5ce6d9ba-a2b7-4acf-92c9-8c9fdfc3fbc5",
   "metadata": {},
   "outputs": [],
   "source": []
  }
 ],
 "metadata": {
  "kernelspec": {
   "display_name": "Python 3 (ipykernel)",
   "language": "python",
   "name": "python3"
  },
  "language_info": {
   "codemirror_mode": {
    "name": "ipython",
    "version": 3
   },
   "file_extension": ".py",
   "mimetype": "text/x-python",
   "name": "python",
   "nbconvert_exporter": "python",
   "pygments_lexer": "ipython3",
   "version": "3.11.10"
  }
 },
 "nbformat": 4,
 "nbformat_minor": 5
}
